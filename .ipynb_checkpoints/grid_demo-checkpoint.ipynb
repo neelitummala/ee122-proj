{
 "cells": [
  {
   "cell_type": "code",
   "execution_count": 1,
   "metadata": {
    "collapsed": true
   },
   "outputs": [],
   "source": [
    "from Grid import *"
   ]
  },
  {
   "cell_type": "code",
   "execution_count": 2,
   "metadata": {
    "collapsed": false
   },
   "outputs": [
    {
     "name": "stdout",
     "output_type": "stream",
     "text": [
      "--- N02 --- N10 --- --- --- --- N11 --- \n",
      "--- --- --- --- --- --- --- --- --- --- \n",
      "--- N07 --- --- --- --- --- N12 --- --- \n",
      "--- --- --- --- N09 --- --- --- --- --- \n",
      "--- --- --- N16 --- --- --- --- N01 --- \n",
      "--- N03 --- --- --- --- --- --- --- N08 \n",
      "--- --- --- --- --- --- N17 --- --- N06 \n",
      "--- --- --- --- --- N00 --- --- --- --- \n",
      "N13 --- --- --- --- --- N18 --- N05 --- \n",
      "N19 --- N15 --- N04 --- --- --- --- N14 \n",
      "\n"
     ]
    }
   ],
   "source": [
    "# instantiate a 10 x 10 grid.\n",
    "# default is to populate 1/5 of the Grid.\n",
    "g = Grid(10)\n",
    "print(g)"
   ]
  },
  {
   "cell_type": "code",
   "execution_count": 3,
   "metadata": {
    "collapsed": false
   },
   "outputs": [
    {
     "name": "stdout",
     "output_type": "stream",
     "text": [
      "True\n"
     ]
    }
   ],
   "source": [
    "# Is this Grid a single connected graph?\n",
    "print(g.isSingleSwarm())"
   ]
  },
  {
   "cell_type": "code",
   "execution_count": 4,
   "metadata": {
    "collapsed": false
   },
   "outputs": [
    {
     "name": "stdout",
     "output_type": "stream",
     "text": [
      "7.9\n"
     ]
    }
   ],
   "source": [
    "# defined as average number of immediately adjacent neighbors that each node\n",
    "# in the swarm can communicate with\n",
    "print(g.getSparsity())"
   ]
  },
  {
   "cell_type": "code",
   "execution_count": null,
   "metadata": {
    "collapsed": true
   },
   "outputs": [],
   "source": []
  }
 ],
 "metadata": {
  "kernelspec": {
   "display_name": "Python 3",
   "language": "python",
   "name": "python3"
  },
  "language_info": {
   "codemirror_mode": {
    "name": "ipython",
    "version": 3
   },
   "file_extension": ".py",
   "mimetype": "text/x-python",
   "name": "python",
   "nbconvert_exporter": "python",
   "pygments_lexer": "ipython3",
   "version": "3.6.0"
  }
 },
 "nbformat": 4,
 "nbformat_minor": 2
}
