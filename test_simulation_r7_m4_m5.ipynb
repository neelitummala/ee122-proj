{
 "cells": [
  {
   "cell_type": "code",
   "execution_count": 2,
   "metadata": {
    "scrolled": false
   },
   "outputs": [
    {
     "name": "stdout",
     "output_type": "stream",
     "text": [
      "4\n",
      "Average number of nodes in swarm: 45.0\n",
      "Average sparsity: 16.453756263\n",
      "AODV time: 30.64\n",
      "AODV overhead: 647.64\n",
      "AODV queue usage (%): 2.47295954618\n",
      "OLSR time: 149.72\n",
      "OLSR overhead: 2133.29\n",
      "OLSR queue usage (%): 64.6011459521\n",
      "Custom time: 75.6\n",
      "Custom overhead: 89.57\n",
      "Custom queue usage (%): 0.681794613283\n",
      "5\n",
      "Average number of nodes in swarm: 45.0\n",
      "Average sparsity: 16.6556937309\n",
      "AODV time: 26.075\n",
      "AODV overhead: 624.55\n",
      "AODV queue usage (%): 2.44337654285\n",
      "OLSR time: 156.405\n",
      "OLSR overhead: 2216.495\n",
      "OLSR queue usage (%): 64.94559114\n",
      "Custom time: 73.77\n",
      "Custom overhead: 84.08\n",
      "Custom queue usage (%): 0.664929297619\n"
     ]
    }
   ],
   "source": [
    "from importlib import reload\n",
    "import numpy as np\n",
    "\n",
    "import simulation\n",
    "reload(simulation)\n",
    "from simulation import *\n",
    "from Grid import *\n",
    "import Packet\n",
    "reload(Packet)\n",
    "from Packet import *\n",
    "import Queues\n",
    "reload(Queues)\n",
    "\n",
    "aodv_time = []\n",
    "aodv_overhead = []\n",
    "aodv_queue = []\n",
    "olsr_time = []\n",
    "olsr_overhead = []\n",
    "olsr_queue = []\n",
    "custom_time = []\n",
    "custom_overhead = []\n",
    "custom_queue = []\n",
    "sparsity = []\n",
    "numNodes = []\n",
    "\n",
    "for m_rad_iter in range(4,6):\n",
    "    print(m_rad_iter)\n",
    "    for i in range(100):\n",
    "        test_grid = Grid(15,r_rad=6,m_rad=m_rad_iter,seed=i) # create test grid\n",
    "        simulation = Simulation(test_grid)\n",
    "        numNodes.append(simulation.numNodes)\n",
    "        results = simulation.end()\n",
    "        aodv_time.append(results[0])\n",
    "        aodv_overhead.append(results[1])\n",
    "        aodv_queue.append(results[2])\n",
    "        olsr_time.append(results[3])\n",
    "        olsr_overhead.append(results[4])\n",
    "        olsr_queue.append(results[5])\n",
    "        custom_time.append(results[6])\n",
    "        custom_overhead.append(results[7])\n",
    "        custom_queue.append(results[8])\n",
    "        sparsity.append(results[9])\n",
    "    #     print(i)\n",
    "\n",
    "    print(\"Average number of nodes in swarm: \"+str(np.mean(numNodes)))\n",
    "    print(\"Average sparsity: \"+str(np.mean(sparsity)))\n",
    "    print(\"AODV time: \"+str(np.mean(aodv_time)))\n",
    "    print(\"AODV overhead: \"+str(np.mean(aodv_overhead)))\n",
    "    print(\"AODV queue usage (%): \"+str(np.mean(aodv_queue)))\n",
    "    print(\"OLSR time: \"+str(np.mean(olsr_time)))\n",
    "    print(\"OLSR overhead: \"+str(np.mean(olsr_overhead)))\n",
    "    print(\"OLSR queue usage (%): \"+str(np.mean(olsr_queue)))\n",
    "    print(\"Custom time: \"+str(np.mean(custom_time)))\n",
    "    print(\"Custom overhead: \"+str(np.mean(custom_overhead)))\n",
    "    print(\"Custom queue usage (%): \"+str(np.mean(custom_queue)))\n",
    "\n"
   ]
  },
  {
   "cell_type": "code",
   "execution_count": null,
   "metadata": {
    "collapsed": true
   },
   "outputs": [],
   "source": []
  }
 ],
 "metadata": {
  "anaconda-cloud": {},
  "kernelspec": {
   "display_name": "Python 3",
   "language": "python",
   "name": "python3"
  },
  "language_info": {
   "codemirror_mode": {
    "name": "ipython",
    "version": 3
   },
   "file_extension": ".py",
   "mimetype": "text/x-python",
   "name": "python",
   "nbconvert_exporter": "python",
   "pygments_lexer": "ipython3",
   "version": "3.6.1"
  }
 },
 "nbformat": 4,
 "nbformat_minor": 1
}
