{
 "cells": [
  {
   "cell_type": "code",
   "execution_count": 1,
   "metadata": {
    "scrolled": false
   },
   "outputs": [
    {
     "name": "stdout",
     "output_type": "stream",
     "text": [
      "2\n",
      "Average number of nodes in swarm: 45.0\n",
      "Average sparsity: 15.7012190049\n",
      "AODV time: 23.16\n",
      "AODV overhead: 618.35\n",
      "AODV queue usage (%): 2.42251051204\n",
      "OLSR time: 161.84\n",
      "OLSR overhead: 2414.51\n",
      "OLSR queue usage (%): 65.3414286467\n",
      "Custom time: 71.66\n",
      "Custom overhead: 81.73\n",
      "Custom queue usage (%): 0.632259104205\n",
      "3\n",
      "Average number of nodes in swarm: 45.0\n",
      "Average sparsity: 15.9327280029\n",
      "AODV time: 29.695\n",
      "AODV overhead: 634.87\n",
      "AODV queue usage (%): 2.30825735337\n",
      "OLSR time: 153.44\n",
      "OLSR overhead: 2250.565\n",
      "OLSR queue usage (%): 65.6280273795\n",
      "Custom time: 72.885\n",
      "Custom overhead: 83.105\n",
      "Custom queue usage (%): 0.652960167964\n"
     ]
    }
   ],
   "source": [
    "from importlib import reload\n",
    "import numpy as np\n",
    "\n",
    "import simulation\n",
    "reload(simulation)\n",
    "from simulation import *\n",
    "from Grid import *\n",
    "import Packet\n",
    "reload(Packet)\n",
    "from Packet import *\n",
    "import Queues\n",
    "reload(Queues)\n",
    "\n",
    "aodv_time = []\n",
    "aodv_overhead = []\n",
    "aodv_queue = []\n",
    "olsr_time = []\n",
    "olsr_overhead = []\n",
    "olsr_queue = []\n",
    "custom_time = []\n",
    "custom_overhead = []\n",
    "custom_queue = []\n",
    "sparsity = []\n",
    "numNodes = []\n",
    "\n",
    "for m_rad_iter in range(2,4):\n",
    "    print(m_rad_iter)\n",
    "    for i in range(100):\n",
    "        test_grid = Grid(15,r_rad=6,m_rad=m_rad_iter,seed=i) # create test grid\n",
    "        simulation = Simulation(test_grid)\n",
    "        numNodes.append(simulation.numNodes)\n",
    "        results = simulation.end()\n",
    "        aodv_time.append(results[0])\n",
    "        aodv_overhead.append(results[1])\n",
    "        aodv_queue.append(results[2])\n",
    "        olsr_time.append(results[3])\n",
    "        olsr_overhead.append(results[4])\n",
    "        olsr_queue.append(results[5])\n",
    "        custom_time.append(results[6])\n",
    "        custom_overhead.append(results[7])\n",
    "        custom_queue.append(results[8])\n",
    "        sparsity.append(results[9])\n",
    "    #     print(i)\n",
    "\n",
    "    print(\"Average number of nodes in swarm: \"+str(np.mean(numNodes)))\n",
    "    print(\"Average sparsity: \"+str(np.mean(sparsity)))\n",
    "    print(\"AODV time: \"+str(np.mean(aodv_time)))\n",
    "    print(\"AODV overhead: \"+str(np.mean(aodv_overhead)))\n",
    "    print(\"AODV queue usage (%): \"+str(np.mean(aodv_queue)))\n",
    "    print(\"OLSR time: \"+str(np.mean(olsr_time)))\n",
    "    print(\"OLSR overhead: \"+str(np.mean(olsr_overhead)))\n",
    "    print(\"OLSR queue usage (%): \"+str(np.mean(olsr_queue)))\n",
    "    print(\"Custom time: \"+str(np.mean(custom_time)))\n",
    "    print(\"Custom overhead: \"+str(np.mean(custom_overhead)))\n",
    "    print(\"Custom queue usage (%): \"+str(np.mean(custom_queue)))\n",
    "\n"
   ]
  },
  {
   "cell_type": "code",
   "execution_count": null,
   "metadata": {
    "collapsed": true
   },
   "outputs": [],
   "source": []
  }
 ],
 "metadata": {
  "anaconda-cloud": {},
  "kernelspec": {
   "display_name": "Python 3",
   "language": "python",
   "name": "python3"
  },
  "language_info": {
   "codemirror_mode": {
    "name": "ipython",
    "version": 3
   },
   "file_extension": ".py",
   "mimetype": "text/x-python",
   "name": "python",
   "nbconvert_exporter": "python",
   "pygments_lexer": "ipython3",
   "version": "3.6.1"
  }
 },
 "nbformat": 4,
 "nbformat_minor": 1
}
