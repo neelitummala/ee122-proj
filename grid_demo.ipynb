{
 "cells": [
  {
   "cell_type": "code",
   "execution_count": 2,
   "metadata": {
    "collapsed": true
   },
   "outputs": [],
   "source": [
    "from Grid import *"
   ]
  },
  {
   "cell_type": "code",
   "execution_count": 6,
   "metadata": {},
   "outputs": [
    {
     "name": "stdout",
     "output_type": "stream",
     "text": [
      "--- --- --- --- --- --- --- --- --- --- --- --- --- N43 --- \n",
      "--- --- --- --- --- --- --- N35 --- --- --- --- --- --- --- \n",
      "--- --- --- --- --- N29 --- --- N12 --- --- --- --- --- --- \n",
      "--- --- N31 --- --- N02 N41 N24 N01 N23 --- --- --- N30 --- \n",
      "--- --- --- --- --- --- --- N09 N27 --- --- --- --- --- N28 \n",
      "--- N00 --- --- --- N04 --- --- --- --- --- --- N34 --- --- \n",
      "N44 --- --- --- --- --- --- --- --- --- --- --- --- --- --- \n",
      "--- --- --- --- --- --- --- --- --- --- N11 --- N22 N06 --- \n",
      "--- --- --- N42 --- N21 N14 N33 --- --- --- --- --- --- --- \n",
      "N38 N18 --- --- --- --- --- --- N16 --- --- --- --- --- --- \n",
      "--- N10 --- --- --- --- --- --- --- --- --- --- --- --- --- \n",
      "N26 N13 --- --- N37 N05 --- N20 N15 --- --- --- N32 N40 --- \n",
      "--- --- --- N19 --- N08 --- --- --- --- N03 --- --- --- --- \n",
      "--- --- N39 --- --- --- --- --- --- --- --- --- --- N36 --- \n",
      "--- N25 --- --- --- --- --- --- N07 --- --- N17 --- --- --- \n",
      "\n"
     ]
    }
   ],
   "source": [
    "# instantiate a 10 x 10 grid.\n",
    "# default is to populate 1/5 of the Grid.\n",
    "g = Grid(15)\n",
    "print(g)"
   ]
  },
  {
   "cell_type": "code",
   "execution_count": 7,
   "metadata": {},
   "outputs": [
    {
     "name": "stdout",
     "output_type": "stream",
     "text": [
      "True\n"
     ]
    }
   ],
   "source": [
    "# Is this Grid a single connected graph?\n",
    "print(g.isSingleSwarm())"
   ]
  },
  {
   "cell_type": "code",
   "execution_count": 8,
   "metadata": {},
   "outputs": [
    {
     "name": "stdout",
     "output_type": "stream",
     "text": [
      "11.911111111111111\n"
     ]
    }
   ],
   "source": [
    "# defined as average number of immediately adjacent neighbors that each node\n",
    "# in the swarm can communicate with\n",
    "print(g.getSparsity())"
   ]
  },
  {
   "cell_type": "code",
   "execution_count": null,
   "metadata": {
    "collapsed": true
   },
   "outputs": [],
   "source": []
  }
 ],
 "metadata": {
  "kernelspec": {
   "display_name": "Python 3",
   "language": "python",
   "name": "python3"
  },
  "language_info": {
   "codemirror_mode": {
    "name": "ipython",
    "version": 3
   },
   "file_extension": ".py",
   "mimetype": "text/x-python",
   "name": "python",
   "nbconvert_exporter": "python",
   "pygments_lexer": "ipython3",
   "version": "3.6.1"
  }
 },
 "nbformat": 4,
 "nbformat_minor": 2
}
