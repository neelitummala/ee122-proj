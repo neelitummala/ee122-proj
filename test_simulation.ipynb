{
 "cells": [
  {
   "cell_type": "code",
   "execution_count": 14,
   "metadata": {
    "collapsed": false
   },
   "outputs": [
    {
     "name": "stdout",
     "output_type": "stream",
     "text": [
      "180\n",
      "N018 N053 N016 N066 N144 N090 N133 N140 N117 N163 ---- N056 N001 N169 N103 \n",
      "N079 ---- N145 N048 N054 N165 N002 N039 N045 N178 ---- ---- ---- N007 N104 \n",
      "N138 N072 N148 N120 N036 ---- ---- N032 N141 N112 ---- N010 N101 N050 N160 \n",
      "N076 N177 N154 N088 N107 N015 N044 N019 N175 N122 N129 ---- N052 N017 N055 \n",
      "---- N105 N100 N092 N058 N174 ---- ---- ---- ---- N057 ---- N030 N070 ---- \n",
      "N078 N171 ---- N037 ---- N172 N095 N161 N012 N047 ---- ---- N135 N116 ---- \n",
      "N108 ---- N022 N024 N139 N046 N075 N157 N087 ---- ---- N179 N146 N143 ---- \n",
      "N136 N085 N068 ---- N043 N164 N091 N098 ---- N086 N093 ---- ---- ---- ---- \n",
      "---- N111 N081 ---- N113 N131 N127 N025 N168 N021 N109 N142 N049 N003 N166 \n",
      "N155 N041 N125 ---- N106 N134 N064 N153 N099 N005 N080 N033 N000 N013 N069 \n",
      "N006 N004 N097 N042 ---- N009 N119 N026 N156 N034 N151 N170 N060 N150 N158 \n",
      "N102 N121 N118 ---- N115 N071 N130 N149 N040 N173 N123 N089 N147 N077 N029 \n",
      "N059 N023 N051 N038 N110 N027 ---- N126 N067 N159 N008 ---- N128 N084 N031 \n",
      "N014 ---- N083 N062 ---- N094 N124 N176 ---- N061 N028 N096 N011 ---- ---- \n",
      "---- N074 N137 ---- N152 N035 N132 N167 N020 N082 N114 N063 N073 N162 N065 \n",
      "\n",
      "OLSR\n",
      "Total timeslots: 203\n",
      "Total overhead: 17293\n",
      "Finished\n"
     ]
    }
   ],
   "source": [
    "from importlib import reload\n",
    "import numpy as np\n",
    "\n",
    "import simulation\n",
    "reload(simulation)\n",
    "from simulation import *\n",
    "from Grid import *\n",
    "import Packet\n",
    "reload(Packet)\n",
    "from Packet import *\n",
    "import Queues\n",
    "reload(Queues)\n",
    "\n",
    "aodv_time = []\n",
    "aodv_overhead = []\n",
    "olsr_time = []\n",
    "olsr_overhead = []\n",
    "\n",
    "test_grid = Grid(15) # create test grid\n",
    "print(len(test_grid.getNeighborsDict()))\n",
    "print(test_grid)\n",
    "simulation = Simulation(test_grid)\n",
    "\n",
    "\n",
    "# for i in range(10):\n",
    "#     test_grid = Grid(50) # create test grid\n",
    "#     simulation = Simulation(test_grid)\n",
    "#     results = simulation.end()\n",
    "#     aodv_time.append(results[0])\n",
    "#     aodv_overhead.append(results[1])\n",
    "#     olsr_time.append(results[2])\n",
    "#     olsr_overhead.append(results[3])\n",
    "\n",
    "# print(\"AODV time: \"+str(np.mean(aodv_time)))\n",
    "# print(\"AODV overhead: \"+str(np.mean(aodv_overhead)))\n",
    "# print(\"OLSR time: \"+str(np.mean(olsr_time)))\n",
    "# print(\"OLSR overhead: \"+str(np.mean(olsr_overhead)))\n",
    "\n"
   ]
  }
 ],
 "metadata": {
  "anaconda-cloud": {},
  "kernelspec": {
   "display_name": "Python [default]",
   "language": "python",
   "name": "python3"
  },
  "language_info": {
   "codemirror_mode": {
    "name": "ipython",
    "version": 3
   },
   "file_extension": ".py",
   "mimetype": "text/x-python",
   "name": "python",
   "nbconvert_exporter": "python",
   "pygments_lexer": "ipython3",
   "version": "3.4.5"
  }
 },
 "nbformat": 4,
 "nbformat_minor": 0
}
