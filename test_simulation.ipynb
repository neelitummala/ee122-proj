{
 "cells": [
  {
   "cell_type": "code",
   "execution_count": 6,
   "metadata": {
    "collapsed": false
   },
   "outputs": [
    {
     "name": "stdout",
     "output_type": "stream",
     "text": [
      "--- N09 --- --- --- --- --- --- --- --- --- --- --- --- --- --- N77 N01 --- N14 \n",
      "--- --- --- --- --- --- N03 --- --- --- --- --- N31 --- N02 N79 --- --- --- --- \n",
      "--- --- --- N18 --- --- --- --- --- --- --- N22 --- --- --- N40 --- --- --- --- \n",
      "--- --- N32 N34 --- --- --- --- --- --- --- --- --- --- --- --- --- --- --- N38 \n",
      "--- --- --- --- --- --- --- --- --- N66 --- --- --- N11 --- --- N63 --- --- N42 \n",
      "--- N54 --- --- N29 --- --- --- --- --- --- --- N12 --- --- --- --- --- N20 --- \n",
      "--- N37 --- --- --- --- --- --- --- N05 --- N26 --- N57 N44 N33 N30 --- --- --- \n",
      "--- --- N71 --- --- --- --- N06 --- --- --- --- --- --- N58 --- --- --- --- --- \n",
      "--- --- --- --- --- --- --- --- --- --- --- N24 --- --- --- N68 --- --- --- --- \n",
      "--- --- --- --- --- N62 N25 --- --- --- --- --- --- --- --- --- --- N46 --- --- \n",
      "--- --- N75 N27 --- --- N52 --- N21 --- N39 --- --- --- --- --- --- --- --- N50 \n",
      "--- --- N73 --- --- --- N16 --- N53 N61 --- --- N70 --- --- N45 --- --- --- --- \n",
      "--- N41 --- --- --- --- --- --- N04 --- --- --- --- --- --- --- --- --- --- --- \n",
      "--- N47 --- --- --- --- --- --- --- --- --- --- --- --- --- --- --- --- --- --- \n",
      "--- --- N51 N19 N55 --- --- --- N49 --- --- N67 N76 --- N36 --- --- N15 --- --- \n",
      "--- N00 --- N43 --- --- --- --- --- --- N08 --- --- --- --- --- N07 --- --- --- \n",
      "--- --- --- N10 --- --- --- --- N59 --- --- --- --- --- --- --- --- --- N69 --- \n",
      "N35 N17 --- --- --- --- --- --- N56 --- N13 --- --- --- --- --- --- --- N23 --- \n",
      "--- N72 --- N48 --- --- --- --- N65 N74 --- N28 --- N78 --- --- --- --- --- N60 \n",
      "--- --- --- --- --- --- --- N64 --- --- --- --- --- --- --- --- --- --- --- --- \n",
      "\n",
      "[73, 52, 39, 24, 45, 7, 60]\n",
      "[73, 52, 39, 24, 45, 7, 60]\n",
      "[52, 39, 24, 45, 7, 60]\n",
      "[39, 24, 45, 7, 60]\n",
      "[24, 45, 7, 60]\n",
      "[45, 7, 60]\n",
      "[7, 60]\n",
      "Total timeslots: 71\n",
      "Total overhead: 1010\n",
      "Finished\n",
      "Source node: 60\n",
      "Destination node: 43\n"
     ]
    }
   ],
   "source": [
    "from importlib import reload\n",
    "\n",
    "import simulation\n",
    "reload(simulation)\n",
    "from simulation import *\n",
    "from Grid import *\n",
    "import Packet\n",
    "reload(Packet)\n",
    "from Packet import *\n",
    "import Queues\n",
    "reload(Queues)\n",
    "\n",
    "test_grid = Grid(20) # create test grid\n",
    "print(test_grid)\n",
    "\n",
    "simulation = Simulation(test_grid)\n",
    "print(\"Source node: \"+str(simulation.source))\n",
    "print(\"Destination node: \"+str(simulation.target))\n",
    "\n"
   ]
  }
 ],
 "metadata": {
  "anaconda-cloud": {},
  "kernelspec": {
   "display_name": "Python [default]",
   "language": "python",
   "name": "python3"
  },
  "language_info": {
   "codemirror_mode": {
    "name": "ipython",
    "version": 3
   },
   "file_extension": ".py",
   "mimetype": "text/x-python",
   "name": "python",
   "nbconvert_exporter": "python",
   "pygments_lexer": "ipython3",
   "version": "3.4.5"
  }
 },
 "nbformat": 4,
 "nbformat_minor": 0
}
