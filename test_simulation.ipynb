{
 "cells": [
  {
   "cell_type": "code",
   "execution_count": 41,
   "metadata": {
    "collapsed": false
   },
   "outputs": [
    {
     "name": "stdout",
     "output_type": "stream",
     "text": [
      "--- --- --- --- --- N00 --- N02 --- --- \n",
      "--- --- --- N06 --- N16 N09 N04 --- N11 \n",
      "N19 --- --- --- N15 --- --- --- --- --- \n",
      "--- --- N17 --- --- --- --- --- N12 --- \n",
      "--- --- N18 --- --- --- --- --- --- --- \n",
      "--- --- N08 --- --- --- --- --- --- --- \n",
      "--- N13 N07 N01 --- --- --- --- --- --- \n",
      "--- --- --- N03 --- --- --- --- --- --- \n",
      "--- N05 --- --- --- --- --- --- N10 --- \n",
      "--- --- --- N14 --- --- --- --- --- --- \n",
      "\n",
      "20\n",
      "0.5\n",
      "[2, 6, 8, 10, 11, 13, 15, 19]\n"
     ]
    },
    {
     "ename": "NameError",
     "evalue": "name 'RouteRequestPacket' is not defined",
     "output_type": "error",
     "traceback": [
      "\u001b[1;31m---------------------------------------------------------------------------\u001b[0m",
      "\u001b[1;31mNameError\u001b[0m                                 Traceback (most recent call last)",
      "\u001b[1;32m<ipython-input-41-6166e357e21e>\u001b[0m in \u001b[0;36m<module>\u001b[1;34m()\u001b[0m\n\u001b[0;32m     15\u001b[0m \u001b[0mprint\u001b[0m\u001b[1;33m(\u001b[0m\u001b[0mtransmissions\u001b[0m\u001b[1;33m(\u001b[0m\u001b[0mtest_grid\u001b[0m\u001b[1;33m,\u001b[0m \u001b[0mlen\u001b[0m\u001b[1;33m(\u001b[0m\u001b[0mtest_grid\u001b[0m\u001b[1;33m.\u001b[0m\u001b[0mgetNeighborsDict\u001b[0m\u001b[1;33m(\u001b[0m\u001b[1;33m)\u001b[0m\u001b[1;33m)\u001b[0m\u001b[1;33m)\u001b[0m\u001b[1;33m)\u001b[0m\u001b[1;33m\u001b[0m\u001b[0m\n\u001b[0;32m     16\u001b[0m \u001b[1;33m\u001b[0m\u001b[0m\n\u001b[1;32m---> 17\u001b[1;33m \u001b[0mtest_packet\u001b[0m \u001b[1;33m=\u001b[0m \u001b[0mRouteRequestPacket\u001b[0m\u001b[1;33m(\u001b[0m\u001b[1;36m0\u001b[0m\u001b[1;33m,\u001b[0m \u001b[1;36m1\u001b[0m\u001b[1;33m,\u001b[0m \u001b[1;36m2\u001b[0m\u001b[1;33m)\u001b[0m\u001b[1;33m\u001b[0m\u001b[0m\n\u001b[0m\u001b[0;32m     18\u001b[0m \u001b[0mprint\u001b[0m\u001b[1;33m(\u001b[0m\u001b[0mtest_packet\u001b[0m\u001b[1;33m.\u001b[0m\u001b[0mgetType\u001b[0m\u001b[1;33m(\u001b[0m\u001b[1;33m)\u001b[0m\u001b[1;33m)\u001b[0m\u001b[1;33m\u001b[0m\u001b[0m\n",
      "\u001b[1;31mNameError\u001b[0m: name 'RouteRequestPacket' is not defined"
     ]
    }
   ],
   "source": [
    "from simulation import *\n",
    "from Grid import *\n",
    "from importlib import reload\n",
    "import Packet\n",
    "reload(Packet)\n",
    "from Packet import *\n",
    "\n",
    "# reload modules so that changes are reflected here\n",
    "reload(simulation)\n",
    "\n",
    "test_grid = Grid(10) # create test grid\n",
    "print(test_grid)\n",
    "print(len(test_grid.getNeighborsDict()))\n",
    "print(get_p(test_grid, 0))\n",
    "print(transmissions(test_grid, len(test_grid.getNeighborsDict())))\n",
    "\n",
    "test_packet = RouteRequestPacket(0, 1, 2)\n",
    "print(test_packet.getType())"
   ]
  }
 ],
 "metadata": {
  "anaconda-cloud": {},
  "kernelspec": {
   "display_name": "Python [default]",
   "language": "python",
   "name": "python3"
  },
  "language_info": {
   "codemirror_mode": {
    "name": "ipython",
    "version": 3
   },
   "file_extension": ".py",
   "mimetype": "text/x-python",
   "name": "python",
   "nbconvert_exporter": "python",
   "pygments_lexer": "ipython3",
   "version": "3.4.5"
  }
 },
 "nbformat": 4,
 "nbformat_minor": 0
}
