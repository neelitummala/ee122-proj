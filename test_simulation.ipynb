{
 "cells": [
  {
   "cell_type": "code",
   "execution_count": 3,
   "metadata": {
    "collapsed": false
   },
   "outputs": [
    {
     "name": "stdout",
     "output_type": "stream",
     "text": [
      "-- -- -- -- -- \n",
      "-- -- -- -- -- \n",
      "N1 -- -- -- -- \n",
      "-- N0 -- -- -- \n",
      "N3 -- -- N4 N2 \n",
      "\n",
      "[4]\n",
      "0\n",
      "0\n",
      "0\n",
      "0\n",
      "1\n",
      "1\n",
      "Finished\n"
     ]
    }
   ],
   "source": [
    "from importlib import reload\n",
    "\n",
    "import simulation\n",
    "reload(simulation)\n",
    "from simulation import *\n",
    "from Grid import *\n",
    "import Packet\n",
    "reload(Packet)\n",
    "from Packet import *\n",
    "import Queues\n",
    "reload(Queues)\n",
    "\n",
    "test_grid = Grid(5) # create test grid\n",
    "print(test_grid)\n",
    "print(transmissions(test_grid, len(test_grid.getNeighborsDict())))\n",
    "\n",
    "simulation = Simulation(test_grid)\n"
   ]
  }
 ],
 "metadata": {
  "anaconda-cloud": {},
  "kernelspec": {
   "display_name": "Python [default]",
   "language": "python",
   "name": "python3"
  },
  "language_info": {
   "codemirror_mode": {
    "name": "ipython",
    "version": 3
   },
   "file_extension": ".py",
   "mimetype": "text/x-python",
   "name": "python",
   "nbconvert_exporter": "python",
   "pygments_lexer": "ipython3",
   "version": "3.4.5"
  }
 },
 "nbformat": 4,
 "nbformat_minor": 0
}
