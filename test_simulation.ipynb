{
 "cells": [
  {
   "cell_type": "code",
   "execution_count": null,
   "metadata": {
    "collapsed": false,
    "scrolled": false
   },
   "outputs": [],
   "source": [
    "from importlib import reload\n",
    "import numpy as np\n",
    "\n",
    "import simulation\n",
    "reload(simulation)\n",
    "from simulation import *\n",
    "from Grid import *\n",
    "import Packet\n",
    "reload(Packet)\n",
    "from Packet import *\n",
    "import Queues\n",
    "reload(Queues)\n",
    "\n",
    "aodv_time = []\n",
    "aodv_overhead = []\n",
    "aodv_queue = []\n",
    "olsr_time = []\n",
    "olsr_overhead = []\n",
    "olsr_queue = []\n",
    "custom_time = []\n",
    "custom_overhead = []\n",
    "custom_queue = []\n",
    "\n",
    "numNodes = []\n",
    "for i in range(10):\n",
    "    test_grid = Grid(15) # create test grid\n",
    "    simulation = Simulation(test_grid)\n",
    "    numNodes.append(simulation.numNodes)\n",
    "    results = simulation.end()\n",
    "    aodv_time.append(results[0])\n",
    "    aodv_overhead.append(results[1])\n",
    "    aodv_queue.append(results[2])\n",
    "    olsr_time.append(results[3])\n",
    "    olsr_overhead.append(results[4])\n",
    "    olsr_queue.append(results[5])\n",
    "    custom_time.append(results[6])\n",
    "    custom_overhead.append(results[7])\n",
    "    custom_queue.append(results[8])\n",
    "    print(i)\n",
    "\n",
    "print(\"Average number of nodes in swarm: \"+str(np.mean(numNodes)))\n",
    "print(\"AODV time: \"+str(np.mean(aodv_time)))\n",
    "print(\"AODV overhead: \"+str(np.mean(aodv_overhead)))\n",
    "print(\"AODV queue usage (%): \"+str(np.mean(aodv_queue)))\n",
    "print(\"OLSR time: \"+str(np.mean(olsr_time)))\n",
    "print(\"OLSR overhead: \"+str(np.mean(olsr_overhead)))\n",
    "print(\"OLSR queue usage (%): \"+str(np.mean(olsr_queue)))\n",
    "print(\"Custom time: \"+str(np.mean(custom_time)))\n",
    "print(\"Custom overhead: \"+str(np.mean(custom_overhead)))\n",
    "print(\"Custom queue usage (%): \"+str(np.mean(custom_queue)))\n",
    "\n"
   ]
  }
 ],
 "metadata": {
  "anaconda-cloud": {},
  "kernelspec": {
   "display_name": "Python [default]",
   "language": "python",
   "name": "python3"
  },
  "language_info": {
   "codemirror_mode": {
    "name": "ipython",
    "version": 3
   },
   "file_extension": ".py",
   "mimetype": "text/x-python",
   "name": "python",
   "nbconvert_exporter": "python",
   "pygments_lexer": "ipython3",
   "version": "3.4.5"
  }
 },
 "nbformat": 4,
 "nbformat_minor": 0
}
