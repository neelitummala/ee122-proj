{
 "cells": [
  {
   "cell_type": "code",
   "execution_count": 21,
   "metadata": {
    "collapsed": false
   },
   "outputs": [
    {
     "name": "stdout",
     "output_type": "stream",
     "text": [
      "N06 --- N03 --- N09 --- --- --- --- --- \n",
      "N02 --- N05 N12 N10 --- --- --- --- --- \n",
      "--- N18 N19 --- --- --- N04 N16 --- --- \n",
      "--- --- --- --- --- --- --- --- --- --- \n",
      "--- --- N08 N17 --- N13 --- --- --- --- \n",
      "--- --- --- --- --- N00 --- --- --- --- \n",
      "--- --- --- --- --- --- --- --- --- --- \n",
      "--- --- --- --- N07 --- --- --- --- N01 \n",
      "--- --- --- --- --- --- --- --- --- --- \n",
      "--- N11 N14 N15 --- --- --- --- --- --- \n",
      "\n",
      "20\n",
      "0.5\n",
      "[0, 2, 4, 5, 6, 7, 8, 9, 11, 13, 14, 15, 17, 19]\n",
      "1\n"
     ]
    }
   ],
   "source": [
    "from importlib import reload\n",
    "\n",
    "import simulation\n",
    "reload(simulation)\n",
    "from simulation import *\n",
    "from Grid import *\n",
    "import Packet\n",
    "reload(Packet)\n",
    "from Packet import *\n",
    "\n",
    "test_grid = Grid(10) # create test grid\n",
    "print(test_grid)\n",
    "print(len(test_grid.getNeighborsDict()))\n",
    "print(get_p(test_grid, 0))\n",
    "print(transmissions(test_grid, len(test_grid.getNeighborsDict())))\n",
    "\n",
    "test_packet = RouteRequest(0, 1, 2)\n",
    "print(test_packet.getSource())"
   ]
  }
 ],
 "metadata": {
  "anaconda-cloud": {},
  "kernelspec": {
   "display_name": "Python [default]",
   "language": "python",
   "name": "python3"
  },
  "language_info": {
   "codemirror_mode": {
    "name": "ipython",
    "version": 3
   },
   "file_extension": ".py",
   "mimetype": "text/x-python",
   "name": "python",
   "nbconvert_exporter": "python",
   "pygments_lexer": "ipython3",
   "version": "3.4.5"
  }
 },
 "nbformat": 4,
 "nbformat_minor": 0
}
