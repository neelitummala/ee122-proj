{
 "cells": [
  {
   "cell_type": "code",
   "execution_count": 1,
   "metadata": {
    "collapsed": false
   },
   "outputs": [],
   "source": [
    "from Grid import *"
   ]
  },
  {
   "cell_type": "code",
   "execution_count": 2,
   "metadata": {
    "collapsed": false
   },
   "outputs": [
    {
     "name": "stdout",
     "output_type": "stream",
     "text": [
      "--- --- --- N10 --- N00 N03 --- --- N15 \n",
      "--- --- --- N02 --- --- N18 N16 N19 --- \n",
      "N01 --- --- --- --- --- N05 --- --- --- \n",
      "N09 --- --- --- --- --- N14 N04 --- --- \n",
      "--- --- --- --- --- N17 N13 --- --- --- \n",
      "--- --- --- --- --- --- --- --- --- --- \n",
      "--- --- --- --- --- --- N12 --- --- --- \n",
      "--- --- --- --- N06 --- --- --- --- --- \n",
      "--- --- --- N08 --- --- --- --- --- --- \n",
      "--- --- --- --- --- --- --- N11 --- N07 \n",
      "\n"
     ]
    }
   ],
   "source": [
    "g = Grid(10)\n",
    "print(g)"
   ]
  },
  {
   "cell_type": "code",
   "execution_count": 12,
   "metadata": {
    "collapsed": false
   },
   "outputs": [
    {
     "name": "stdout",
     "output_type": "stream",
     "text": [
      "[N20, N1, N9, N2, N0, N17, N3, N18, N5, N14, N13, N16, N4]\n",
      "Coordinate already occupied!\n"
     ]
    },
    {
     "data": {
      "text/plain": [
       "False"
      ]
     },
     "execution_count": 12,
     "metadata": {},
     "output_type": "execute_result"
    }
   ],
   "source": [
    "nd = g.getNeighborsDict()\n",
    "print(nd[g.getNode(3,0)])\n",
    "g.addDevice(Node(1,Point(0,0)))"
   ]
  },
  {
   "cell_type": "code",
   "execution_count": 13,
   "metadata": {
    "collapsed": false,
    "scrolled": true
   },
   "outputs": [
    {
     "name": "stdout",
     "output_type": "stream",
     "text": [
      "N20 --- --- N10 --- N00 N03 --- --- N15 \n",
      "--- --- --- N02 --- --- N18 N16 N19 --- \n",
      "N01 --- --- --- --- --- N05 --- --- --- \n",
      "N09 --- --- --- --- --- N14 N04 --- --- \n",
      "--- --- --- --- --- N17 N13 --- --- --- \n",
      "--- --- --- --- --- --- --- --- --- --- \n",
      "--- --- --- --- --- --- N12 --- --- --- \n",
      "--- --- --- --- N06 --- --- --- --- --- \n",
      "--- --- --- N08 --- --- --- --- --- --- \n",
      "--- --- --- --- --- --- --- N11 --- N07 \n",
      "\n",
      "[N20, N1, N9, N2, N0, N17, N3, N18, N5, N14, N13, N16, N4]\n"
     ]
    }
   ],
   "source": [
    "print(g)\n",
    "print(nd[g.getNode(3,0)])"
   ]
  },
  {
   "cell_type": "code",
   "execution_count": 18,
   "metadata": {
    "collapsed": false
   },
   "outputs": [
    {
     "name": "stdout",
     "output_type": "stream",
     "text": [
      "--- --- --- N10 --- N00 N03 --- --- N15 \n",
      "--- --- --- N02 --- --- N18 N16 N19 --- \n",
      "N01 --- --- --- --- --- N05 --- --- --- \n",
      "N09 --- --- --- --- --- N14 N04 --- --- \n",
      "--- --- --- --- --- N17 N13 --- --- --- \n",
      "--- --- --- --- --- --- --- --- --- --- \n",
      "--- --- --- --- --- --- N12 --- --- --- \n",
      "--- --- --- --- N06 --- --- --- --- --- \n",
      "--- --- --- N08 --- --- --- --- --- --- \n",
      "N20 --- --- --- --- --- --- N11 --- N07 \n",
      "\n"
     ]
    },
    {
     "ename": "AttributeError",
     "evalue": "'Grid' object has no attribute 'getNeighbors'",
     "output_type": "error",
     "traceback": [
      "\u001b[0;31m---------------------------------------------------------------------------\u001b[0m",
      "\u001b[0;31mAttributeError\u001b[0m                            Traceback (most recent call last)",
      "\u001b[0;32m<ipython-input-18-ed47e779eb8c>\u001b[0m in \u001b[0;36m<module>\u001b[0;34m()\u001b[0m\n\u001b[1;32m      1\u001b[0m \u001b[1;31m# g.moveDevice(0,0,0,9)\u001b[0m\u001b[1;33m\u001b[0m\u001b[1;33m\u001b[0m\u001b[0m\n\u001b[1;32m      2\u001b[0m \u001b[0mprint\u001b[0m\u001b[1;33m(\u001b[0m\u001b[0mg\u001b[0m\u001b[1;33m)\u001b[0m\u001b[1;33m\u001b[0m\u001b[0m\n\u001b[0;32m----> 3\u001b[0;31m \u001b[0mprint\u001b[0m\u001b[1;33m(\u001b[0m\u001b[0mg\u001b[0m\u001b[1;33m.\u001b[0m\u001b[0mgetNeighbors\u001b[0m\u001b[1;33m(\u001b[0m\u001b[1;33m)\u001b[0m\u001b[1;33m[\u001b[0m\u001b[0mg\u001b[0m\u001b[1;33m.\u001b[0m\u001b[0mgetNode\u001b[0m\u001b[1;33m(\u001b[0m\u001b[1;36m9\u001b[0m\u001b[1;33m,\u001b[0m\u001b[1;36m0\u001b[0m\u001b[1;33m)\u001b[0m\u001b[1;33m]\u001b[0m\u001b[1;33m)\u001b[0m\u001b[1;33m\u001b[0m\u001b[0m\n\u001b[0m",
      "\u001b[0;31mAttributeError\u001b[0m: 'Grid' object has no attribute 'getNeighbors'"
     ]
    }
   ],
   "source": [
    "# g.moveDevice(0,0,0,9)\n",
    "print(g)\n",
    "print(g.getNeighbors()[g.getNode(9,0)])"
   ]
  },
  {
   "cell_type": "code",
   "execution_count": 17,
   "metadata": {
    "collapsed": false
   },
   "outputs": [
    {
     "name": "stdout",
     "output_type": "stream",
     "text": [
      "(9,0)\n"
     ]
    }
   ],
   "source": [
    "print(g.getNode(9,0).getCoordinate())"
   ]
  },
  {
   "cell_type": "code",
   "execution_count": null,
   "metadata": {
    "collapsed": true
   },
   "outputs": [],
   "source": []
  }
 ],
 "metadata": {
  "kernelspec": {
   "display_name": "Python 3",
   "language": "python",
   "name": "python3"
  },
  "language_info": {
   "codemirror_mode": {
    "name": "ipython",
    "version": 3
   },
   "file_extension": ".py",
   "mimetype": "text/x-python",
   "name": "python",
   "nbconvert_exporter": "python",
   "pygments_lexer": "ipython3",
   "version": "3.6.0"
  }
 },
 "nbformat": 4,
 "nbformat_minor": 2
}
