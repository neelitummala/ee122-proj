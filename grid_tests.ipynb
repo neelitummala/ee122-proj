{
 "cells": [
  {
   "cell_type": "code",
   "execution_count": 1,
   "metadata": {},
   "outputs": [],
   "source": [
    "from Grid import *"
   ]
  },
  {
   "cell_type": "code",
   "execution_count": 2,
   "metadata": {},
   "outputs": [
    {
     "name": "stdout",
     "output_type": "stream",
     "text": [
      "N05 N11 N03 N07 N14 \n",
      "N10 N13 N17 N06 --- \n",
      "N12 --- --- N15 N08 \n",
      "N04 N01 N09 N02 N19 \n",
      "--- N00 N18 N16 --- \n",
      "\n",
      "{0: 0, 1: 0, 2: 0, 3: 1, 4: 0, 5: 0, 6: 0, 7: 0, 8: 0, 9: 1, 10: 0, 11: 0, 12: 1, 13: 0, 14: 0, 15: 0, 16: 0, 17: 1, 18: 0, 19: 0}\n",
      "N05 N11 N12 N07 N14 \n",
      "N10 N13 --- N06 --- \n",
      "N09 N03 --- N15 N08 \n",
      "N04 N01 --- N02 N19 \n",
      "--- N00 N18 N16 N17 \n",
      "\n"
     ]
    }
   ],
   "source": [
    "g = Grid(5)\n",
    "print(g)\n",
    "print(g.mutate())\n",
    "print(g)"
   ]
  },
  {
   "cell_type": "code",
   "execution_count": null,
   "metadata": {
    "collapsed": true
   },
   "outputs": [],
   "source": []
  }
 ],
 "metadata": {
  "kernelspec": {
   "display_name": "Python 3",
   "language": "python",
   "name": "python3"
  },
  "language_info": {
   "codemirror_mode": {
    "name": "ipython",
    "version": 3
   },
   "file_extension": ".py",
   "mimetype": "text/x-python",
   "name": "python",
   "nbconvert_exporter": "python",
   "pygments_lexer": "ipython3",
   "version": "3.6.1"
  }
 },
 "nbformat": 4,
 "nbformat_minor": 2
}
