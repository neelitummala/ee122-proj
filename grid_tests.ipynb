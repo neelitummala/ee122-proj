{
 "cells": [
  {
   "cell_type": "code",
   "execution_count": 1,
   "metadata": {
    "collapsed": false
   },
   "outputs": [],
   "source": [
    "from Grid import *"
   ]
  },
  {
   "cell_type": "code",
   "execution_count": 2,
   "metadata": {
    "collapsed": false
   },
   "outputs": [
    {
     "name": "stdout",
     "output_type": "stream",
     "text": [
      "--- --- --- N10 --- N00 N03 --- --- N15 \n",
      "--- --- --- N02 --- --- N18 N16 N19 --- \n",
      "N01 --- --- --- --- --- N05 --- --- --- \n",
      "N09 --- --- --- --- --- N14 N04 --- --- \n",
      "--- --- --- --- --- N17 N13 --- --- --- \n",
      "--- --- --- --- --- --- --- --- --- --- \n",
      "--- --- --- --- --- --- N12 --- --- --- \n",
      "--- --- --- --- N06 --- --- --- --- --- \n",
      "--- --- --- N08 --- --- --- --- --- --- \n",
      "--- --- --- --- --- --- --- N11 --- N07 \n",
      "\n"
     ]
    }
   ],
   "source": [
    "g = Grid(10)\n",
    "print(g)"
   ]
  },
  {
   "cell_type": "code",
   "execution_count": 12,
   "metadata": {
    "collapsed": false
   },
   "outputs": [
    {
     "name": "stdout",
     "output_type": "stream",
     "text": [
      "[N20, N1, N9, N2, N0, N17, N3, N18, N5, N14, N13, N16, N4]\n",
      "Coordinate already occupied!\n"
     ]
    },
    {
     "data": {
      "text/plain": [
       "False"
      ]
     },
     "execution_count": 12,
     "metadata": {},
     "output_type": "execute_result"
    }
   ],
   "source": [
    "nd = g.getNeighborsDict()\n",
    "print(nd[g.getNode(3,0)])\n",
    "g.addDevice(Node(1,Point(0,0)))"
   ]
  },
  {
   "cell_type": "code",
   "execution_count": 13,
   "metadata": {
    "collapsed": false,
    "scrolled": true
   },
   "outputs": [
    {
     "name": "stdout",
     "output_type": "stream",
     "text": [
      "N20 --- --- N10 --- N00 N03 --- --- N15 \n",
      "--- --- --- N02 --- --- N18 N16 N19 --- \n",
      "N01 --- --- --- --- --- N05 --- --- --- \n",
      "N09 --- --- --- --- --- N14 N04 --- --- \n",
      "--- --- --- --- --- N17 N13 --- --- --- \n",
      "--- --- --- --- --- --- --- --- --- --- \n",
      "--- --- --- --- --- --- N12 --- --- --- \n",
      "--- --- --- --- N06 --- --- --- --- --- \n",
      "--- --- --- N08 --- --- --- --- --- --- \n",
      "--- --- --- --- --- --- --- N11 --- N07 \n",
      "\n",
      "[N20, N1, N9, N2, N0, N17, N3, N18, N5, N14, N13, N16, N4]\n"
     ]
    }
   ],
   "source": [
    "print(g)\n",
    "print(nd[g.getNode(3,0)])"
   ]
  },
  {
   "cell_type": "code",
   "execution_count": 21,
   "metadata": {
    "collapsed": false
   },
   "outputs": [
    {
     "name": "stdout",
     "output_type": "stream",
     "text": [
      "--- --- --- N10 --- N00 N03 --- --- N15 \n",
      "--- --- --- N02 --- --- N18 N16 N19 --- \n",
      "N01 --- --- --- --- --- N05 --- --- --- \n",
      "N09 --- --- --- --- --- N14 N04 --- --- \n",
      "--- --- --- --- --- N17 N13 --- --- --- \n",
      "--- --- --- --- --- --- --- --- --- --- \n",
      "--- --- --- --- --- --- N12 --- --- --- \n",
      "--- --- --- --- N06 --- --- --- --- --- \n",
      "--- --- --- N08 --- --- --- --- --- --- \n",
      "N20 --- --- --- --- --- --- N11 --- N07 \n",
      "\n",
      "[N8, N6]\n"
     ]
    }
   ],
   "source": [
    "# g.moveDevice(0,0,0,9)\n",
    "print(g)\n",
    "print(nd[g.getNode(0,9)])"
   ]
  },
  {
   "cell_type": "code",
   "execution_count": 20,
   "metadata": {
    "collapsed": false
   },
   "outputs": [
    {
     "name": "stdout",
     "output_type": "stream",
     "text": [
      "(0,9)\n"
     ]
    }
   ],
   "source": [
    "print(g.getNode(0,9).getCoordinate())"
   ]
  },
  {
   "cell_type": "code",
   "execution_count": null,
   "metadata": {
    "collapsed": true
   },
   "outputs": [],
   "source": []
  }
 ],
 "metadata": {
  "kernelspec": {
   "display_name": "Python 3",
   "language": "python",
   "name": "python3"
  },
  "language_info": {
   "codemirror_mode": {
    "name": "ipython",
    "version": 3
   },
   "file_extension": ".py",
   "mimetype": "text/x-python",
   "name": "python",
   "nbconvert_exporter": "python",
   "pygments_lexer": "ipython3",
   "version": "3.6.0"
  }
 },
 "nbformat": 4,
 "nbformat_minor": 2
}
